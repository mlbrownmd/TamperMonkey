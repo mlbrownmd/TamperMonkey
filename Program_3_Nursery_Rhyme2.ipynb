{
  "nbformat": 4,
  "nbformat_minor": 0,
  "metadata": {
    "colab": {
      "provenance": [],
      "include_colab_link": true
    },
    "kernelspec": {
      "name": "python3",
      "display_name": "Python 3"
    },
    "language_info": {
      "name": "python"
    }
  },
  "cells": [
    {
      "cell_type": "markdown",
      "metadata": {
        "id": "view-in-github",
        "colab_type": "text"
      },
      "source": [
        "<a href=\"https://colab.research.google.com/github/mlbrownmd/TamperMonkey/blob/main/Program_3_Nursery_Rhyme2.ipynb\" target=\"_parent\"><img src=\"https://colab.research.google.com/assets/colab-badge.svg\" alt=\"Open In Colab\"/></a>"
      ]
    },
    {
      "cell_type": "markdown",
      "source": [
        "**SAVE A COPY** OF THIS NOTEBOOK TO YOUR OWN DRIVE **BEFORE YOU START**"
      ],
      "metadata": {
        "id": "jWy4fQfgmzbC"
      }
    },
    {
      "cell_type": "code",
      "execution_count": null,
      "metadata": {
        "id": "m12vb8RSY4PP"
      },
      "outputs": [],
      "source": [
        "def farm(animal, sound):\n",
        "  print(\"Old MacDonald had a farm\")\n",
        "  print(\"e-i-e-i-o\")\n",
        "  print(\"And on that farm he had a SOMETHING\")\n",
        "  print(\"e-i-e-i-o\")\n",
        "  print(\"With a NOISE, NOISE here\")\n",
        "  print(\"And a NOISE, NOISE there\")\n",
        "  print(\"Here a NOISE, there a NOISE\")\n",
        "  print(\"Everywhere a NOISE NOISE\")\n",
        "  print(\"Old MacDonald had a farm\")\n",
        "  print(\"e-i-e-i-o\")\n",
        "  print()\n",
        "\n",
        "def monkeys(number):\n",
        "  print(number, \"little monkeys jumping on the bed\")\n",
        "  print(\"One fell off and bumped his head\")\n",
        "  print(\"Mama called the doctor, and the doctor said\")\n",
        "  print(\"No more monkeys jumping on the bed!\")\n",
        "\n",
        "def hickory_dickory(time):\n",
        "  print(\"Hickory dickory dock\")\n",
        "  print(\"The mouse ran up the clock\")\n",
        "  print(\"The clock struck\", time\")\n",
        "  print(\"The mouse ran down\")\n",
        "  print(\"Hickory dickory dock\")\n",
        "  print()\n",
        "  print(\"Hickory dickory dock\n",
        "  print(\"The mouse ran up the clock\n",
        "  print(\"The clock struck\", time\")\n",
        "  print(\"The mouse ran down\")\n",
        "  print(\"Hickory dickory dock\")\n",
        "\n",
        "#=====main=====\n",
        "farm(\"cow\", \"moo\")\n",
        "farm(\"duck\", \"quack\")\n",
        "farm(\"sheep\", \"baaa-baaa-baaa\")\n",
        "monkeys(10)\n",
        "monkeys(9)\n",
        "monkeys(8)\n",
        "\n",
        "hickory_dickory(1)\n",
        "hickory_dickory(2)\n",
        "hickory_dickory(3)"
      ]
    }
  ]
}