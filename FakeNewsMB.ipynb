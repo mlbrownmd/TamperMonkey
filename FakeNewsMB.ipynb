{
  "nbformat": 4,
  "nbformat_minor": 0,
  "metadata": {
    "colab": {
      "provenance": [],
      "authorship_tag": "ABX9TyOuhIwKj142qg5obqE9O+NK",
      "include_colab_link": true
    },
    "kernelspec": {
      "name": "python3",
      "display_name": "Python 3"
    },
    "language_info": {
      "name": "python"
    }
  },
  "cells": [
    {
      "cell_type": "markdown",
      "metadata": {
        "id": "view-in-github",
        "colab_type": "text"
      },
      "source": [
        "<a href=\"https://colab.research.google.com/github/mlbrownmd/TamperMonkey/blob/main/FakeNewsMB.ipynb\" target=\"_parent\"><img src=\"https://colab.research.google.com/assets/colab-badge.svg\" alt=\"Open In Colab\"/></a>"
      ]
    },
    {
      "cell_type": "code",
      "execution_count": 2,
      "metadata": {
        "colab": {
          "base_uri": "https://localhost:8080/"
        },
        "id": "grtpuBe6UlBP",
        "outputId": "e7dc05d2-914d-4f39-b64f-f1575a6b1a4d"
      },
      "outputs": [
        {
          "output_type": "stream",
          "name": "stdout",
          "text": [
            "What is your favorite part of dinner? > salad\n",
            "Name a favorite Italian food. > linguini\n",
            "Name a favorite Italian cheese (parmesan, romano, pecorino, etc.). > romano\n",
            "What is your favorite airport's name? > denver\n",
            "Name a weather condition with reduced visibility. > fog\n",
            "Name a part of an aircraft that causes it to move forward. > prop\n",
            "Name another part of an aircraft propulsion system. > engine\n",
            "Name one of your favorite vegetables. > tomatoes\n",
            "Name another favorite Italian food. > pasta\n",
            "Name an extreme temperature condition (i.e. hot, freezing, boiling, etc.). > scalding\n",
            "Select an altitude between 0 and 1000 feet. > 500\n",
            "\n",
            "Today's date is October 13, 2024\n",
            "News that's Not Fit to Print!\n",
            "=============================\n",
            "October 13, 2024   ----------/\\/\\/\\/\\/\\/\\/\\/\\/\\/\\----------\n",
            "\n",
            "\n",
            "Would you prefer to fly in an airplane or a helicopter? > helicopter\n",
            "\n",
            "    This is a story about how one pilot crashed his helicopter into a SALAD field.\n",
            "    Harvey Wacko took off from DENVER Airport in the FOG last week only\n",
            "    to discover that once he left the ground, he couldn’t see anything at all, except for SALAD\n",
            "    all around him.  The SALAD became totally tangled up in the PROP causing the\n",
            "    PROP’s size and weight to increase which caused the helicopter’s rate of climb to\n",
            "    rapidly decrease.  As the SALAD continued to accumulate around the spinning PROP,\n",
            "    by 500 feet of altitude the pasta sauce began seeping in through the air vents until\n",
            "    the pilot was covered in SALAD sauce.  If this wasn’t bad enough, the sauce was\n",
            "    also being ingested into the ENGINE which caused the exhaust to begin spitting out SCALDING, SCALDING, SCALDING\n",
            "    TOMATOES and meatballs while the pilot pooped out ROMANO cheese in fright!\n",
            "    Obviously, the helicopter became uncontrollable and eventually the engine died and the helicopter\n",
            "    crashed into the SALAD sitting on the plate next to it.  Miraculously, the pilot survived\n",
            "    due to the heavy cushion of SALAD that protected him.\n"
          ]
        }
      ],
      "source": [
        "from datetime import datetime\n",
        "\n",
        "# Story to print if user chooses \"airplane\"\n",
        "def airplane():\n",
        "    print()\n",
        "    print(f\"\"\"    This is a story about how one pilot crashed his airplane into a {favorite_dinner_part.upper()} field.\n",
        "    Harvey Wacko tried to {aircraft_action} from {airport_name.upper()} Airport in the {weather_condition.upper()} last week only\n",
        "    to discover that once he left the ground, he couldn’t see anything at all, except for {favorite_dinner_part.upper()}\n",
        "    all around him.  The {favorite_dinner_part.upper()} became totally tangled up in the {one_part_of_an_aircraft.upper()} causing the\n",
        "    {one_part_of_an_aircraft.upper()}’s size and weight to increase which caused the airplane’s rate of climb to\n",
        "    rapidly decrease.  As the {favorite_dinner_part.upper()} continued to accumulate around the spinning {one_part_of_an_aircraft.upper()},\n",
        "    by {altitude.upper()} feet of altitude the pasta sauce began seeping in through the air vents until\n",
        "    the pilot was covered in {favorite_dinner_part.upper()} sauce.  If this wasn’t bad enough, the sauce was\n",
        "    also being ingested into the {another_part_of_an_aircraft.upper()} which caused the exhaust to begin spitting out {', '.join([temperature.upper()]*3)}\n",
        "    {favorite_vegetable.upper()} and meatballs while the pilot pooped out {favorite_italian_cheese.upper()} cheese in fright!\n",
        "    Obviously, the plane became uncontrollable and eventually the engine died and the plane\n",
        "    crashed into the {favorite_dinner_part.upper()} sitting on the plate next to it.  Miraculously, the pilot survived\n",
        "    due to the heavy cushion of {favorite_dinner_part.upper()} that protected him.\"\"\")\n",
        "\n",
        "# Story to print if user chooses \"helicopter\"\n",
        "def helicopter():\n",
        "    print()\n",
        "    print(f\"\"\"    This is a story about how one pilot crashed his helicopter into a {favorite_dinner_part.upper()} field.\n",
        "    Harvey Wacko tried to {aircraft_action} from {airport_name.upper()} Airport in the {weather_condition.upper()} last week only\n",
        "    to discover that once he left the ground, he couldn’t see anything at all, except for {favorite_dinner_part.upper()}\n",
        "    all around him.  The {favorite_dinner_part.upper()} became totally tangled up in the {one_part_of_an_aircraft.upper()} causing the\n",
        "    {one_part_of_an_aircraft.upper()}’s size and weight to increase which caused the helicopter’s rate of climb to\n",
        "    rapidly decrease.  As the {favorite_dinner_part.upper()} continued to accumulate around the spinning {one_part_of_an_aircraft.upper()},\n",
        "    by {altitude.upper()} feet of altitude the pasta sauce began seeping in through the air vents until\n",
        "    the pilot was covered in {favorite_dinner_part.upper()} sauce.  If this wasn’t bad enough, the sauce was\n",
        "    also being ingested into the {another_part_of_an_aircraft.upper()} which caused the exhaust to begin spitting out {', '.join([temperature.upper()]*3)}\n",
        "    {favorite_vegetable.upper()} and meatballs while the pilot pooped out {favorite_italian_cheese.upper()} cheese in fright!\n",
        "    Obviously, the helicopter became uncontrollable and eventually the engine died and the helicopter\n",
        "    crashed into the {favorite_dinner_part.upper()} sitting on the plate next to it.  Miraculously, the pilot survived\n",
        "    due to the heavy cushion of {favorite_dinner_part.upper()} that protected him.\"\"\")\n",
        "\n",
        "# Title formatting with today's date - this required some help from Google, like how to get the date right.\n",
        "title = \"News that's Not Fit to Print!\"\n",
        "today = datetime.now()\n",
        "formatted_date = today.strftime(\"%B %d, %Y\")\n",
        "\n",
        "# Variables used in the story portion. Note comments where Google was used.\n",
        "favorite_dinner_part = input(\"What is your favorite thing to eat? Salad, meat, vegetable or desert? > \")\n",
        "favorite_vegetable = input(\"Name one of your favorite vegetables. > \")\n",
        "favorite_italian_food = input(\"Name a favorite Italian food. > \")\n",
        "another_favorite_italian_food = input(\"Name another favorite Italian food. > \")\n",
        "favorite_italian_cheese = input(\"Name a favorite Italian cheese (parmesan, romano, pecorino, etc.). > \")\n",
        "airport_name = input(\"What is your favorite airport's name? > \")\n",
        "weather_condition = input(\"Name a weather condition with reduced visibility. > \")\n",
        "one_part_of_an_aircraft = input(\"Name a part of an aircraft that causes it to move forward. > \")\n",
        "another_part_of_an_aircraft = input(\"Name another part of an aircraft propulsion system. > \")\n",
        "aircraft_action = input(\"Which phase of flying do prefer to do: accelerate, climb, or descend? > \")\n",
        "temperature = input(\"Name an extreme temperature condition (i.e. hot, freezing, boiling, etc.). > \")\n",
        "\n",
        "# I tried an if statement for this \"altitude\" variable, but had enough trouble\n",
        "# getting syntax correct that I decided to try using the \"if\" statement with a\n",
        "# \"while\" statement farther down in the code.\n",
        "altitude = input(\"Select an altitude between 0 and 1000 feet. > \")\n",
        "\n",
        "# Print title & today's date - This required some Google assistance to get this right.\n",
        "print()\n",
        "print(f\"Today's date is {formatted_date}\")\n",
        "print(title)\n",
        "print(\"=\" * len(title)) # Google search for this method of underlining title\n",
        "\n",
        "print(f\"{formatted_date}   ----------\", \"/\\\\\" * 10, \"----------\", sep=\"\")\n",
        "print()\n",
        "print()\n",
        "\n",
        "# User's choice of aircraft & error handling\n",
        "while True:\n",
        "    aircraft = input(\"Would you prefer to fly in an airplane or a helicopter? > \").strip().lower()\n",
        "\n",
        "    if aircraft == \"airplane\":\n",
        "        airplane()\n",
        "        break  # Exit the loop after printing the airplane story\n",
        "    elif aircraft == \"helicopter\":\n",
        "        helicopter()\n",
        "        break  # Exit the loop after printing the helicopter story\n",
        "    else:\n",
        "        print(\"Sorry, please choose either 'airplane' or 'helicopter.'\")"
      ]
    }
  ]
}