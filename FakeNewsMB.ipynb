{
  "nbformat": 4,
  "nbformat_minor": 0,
  "metadata": {
    "colab": {
      "provenance": [],
      "authorship_tag": "ABX9TyNGxYDdgbpZgdmUtIQf96dL",
      "include_colab_link": true
    },
    "kernelspec": {
      "name": "python3",
      "display_name": "Python 3"
    },
    "language_info": {
      "name": "python"
    }
  },
  "cells": [
    {
      "cell_type": "markdown",
      "metadata": {
        "id": "view-in-github",
        "colab_type": "text"
      },
      "source": [
        "<a href=\"https://colab.research.google.com/github/mlbrownmd/TamperMonkey/blob/main/FakeNewsMB.ipynb\" target=\"_parent\"><img src=\"https://colab.research.google.com/assets/colab-badge.svg\" alt=\"Open In Colab\"/></a>"
      ]
    },
    {
      "cell_type": "code",
      "execution_count": 1,
      "metadata": {
        "colab": {
          "base_uri": "https://localhost:8080/"
        },
        "id": "grtpuBe6UlBP",
        "outputId": "43f05483-c4e2-4d37-ef16-fad901ce6dd3"
      },
      "outputs": [
        {
          "output_type": "stream",
          "name": "stdout",
          "text": [
            "What is your favorite part of dinner? > linguini\n",
            "Name a favorite Italian food. > salad\n",
            "Name a favorite Italian cheese (parmesan, romano, pecorino, etc.). > romano\n",
            "What is your favorite airport's name? > denver\n",
            "Name a weather condition with reduced visibility. > fog\n",
            "Name a part of an aircraft that causes it to move forward. > prop\n",
            "Name another part of an aircraft propulsion system. > engine\n",
            "Name one of your favorite vegetables. > tomatoes\n",
            "Name another favorite Italian food. > tiramissu\n",
            "What is your name? > mike\n",
            "Name an extreme temperature condition (i.e. hot, freezing, boiling, etc.). > hot\n",
            "Select an altitude between 0 and 1000 feet. > 1000\n",
            "\n",
            "Today's date is October 13, 2024\n",
            "News that's Not Fit to Print!\n",
            "=============================\n",
            "October 13, 2024   ----------/\\/\\/\\/\\/\\/\\/\\/\\/\\/\\----------\n",
            "\n",
            "\n",
            "Would you prefer to fly in an airplane or a helicopter? > airplane\n",
            "\n",
            "    This is a story about how one pilot crashed his airplane into a LINGUINI field.\n",
            "    MIKE took off from DENVER Airport in the FOG last week only\n",
            "    to discover that once he left the ground, he couldn’t see anything at all, except for LINGUINI\n",
            "    all around him.  The LINGUINI became totally tangled up in the PROP causing the\n",
            "    PROP’s size and weight to increase which caused the airplane’s rate of climb to\n",
            "    rapidly decrease.  As the LINGUINI continued to accumulate around the spinning PROP,\n",
            "    by 1000 feet of altitude the pasta sauce began seeping in through the air vents until\n",
            "    the pilot was covered in LINGUINI sauce.  If this wasn’t bad enough, the sauce was\n",
            "    also being ingested into the ENGINE which caused the exhaust to begin spitting out HOT, HOT, HOT\n",
            "    TOMATOES and meatballs while the pilot pooped out ROMANO cheese in fright!\n",
            "    Obviously, the plane became uncontrollable and eventually the engine died and the plane\n",
            "    crashed into the LINGUINI sitting on the plate next to it.  Miraculously, the pilot survived\n",
            "    due to the heavy cushion of LINGUINI that protected him.\n"
          ]
        }
      ],
      "source": [
        "from datetime import datetime\n",
        "\n",
        "# Story to print if user chooses \"airplane\"\n",
        "def airplane():\n",
        "    print()\n",
        "    print(f\"\"\"    This is a story about how one pilot crashed his airplane into a {favorite_dinner_part.upper()} field.\n",
        "    {pilots_name.upper()} took off from {airport_name.upper()} Airport in the {weather_condition.upper()} last week only\n",
        "    to discover that once he left the ground, he couldn’t see anything at all, except for {favorite_dinner_part.upper()}\n",
        "    all around him.  The {favorite_dinner_part.upper()} became totally tangled up in the {one_part_of_an_aircraft.upper()} causing the\n",
        "    {one_part_of_an_aircraft.upper()}’s size and weight to increase which caused the airplane’s rate of climb to\n",
        "    rapidly decrease.  As the {favorite_dinner_part.upper()} continued to accumulate around the spinning {one_part_of_an_aircraft.upper()},\n",
        "    by {altitude.upper()} feet of altitude the pasta sauce began seeping in through the air vents until\n",
        "    the pilot was covered in {favorite_dinner_part.upper()} sauce.  If this wasn’t bad enough, the sauce was\n",
        "    also being ingested into the {another_part_of_an_aircraft.upper()} which caused the exhaust to begin spitting out {', '.join([temperature.upper()]*3)}\n",
        "    {favorite_vegetable.upper()} and meatballs while the pilot pooped out {favorite_italian_cheese.upper()} cheese in fright!\n",
        "    Obviously, the plane became uncontrollable and eventually the engine died and the plane\n",
        "    crashed into the {favorite_dinner_part.upper()} sitting on the plate next to it.  Miraculously, the pilot survived\n",
        "    due to the heavy cushion of {favorite_dinner_part.upper()} that protected him.\"\"\")\n",
        "\n",
        "# Story to print if user chooses \"helicopter\"\n",
        "def helicopter():\n",
        "    print()\n",
        "    print(f\"\"\"    This is a story about how one pilot crashed his helicopter into a {favorite_dinner_part.upper()} field.\n",
        "    {pilots_name.upper()} took off from {airport_name.upper()} Airport in the {weather_condition.upper()} last week only\n",
        "    to discover that once he left the ground, he couldn’t see anything at all, except for {favorite_dinner_part.upper()}\n",
        "    all around him.  The {favorite_dinner_part.upper()} became totally tangled up in the {one_part_of_an_aircraft.upper()} causing the\n",
        "    {one_part_of_an_aircraft.upper()}’s size and weight to increase which caused the helicopter’s rate of climb to\n",
        "    rapidly decrease.  As the {favorite_dinner_part.upper()} continued to accumulate around the spinning {one_part_of_an_aircraft.upper()},\n",
        "    by {altitude.upper()} feet of altitude the pasta sauce began seeping in through the air vents until\n",
        "    the pilot was covered in {favorite_dinner_part.upper()} sauce.  If this wasn’t bad enough, the sauce was\n",
        "    also being ingested into the {another_part_of_an_aircraft.upper()} which caused the exhaust to begin spitting out {', '.join([temperature.upper()]*3)}\n",
        "    {favorite_vegetable.upper()} and meatballs while the pilot pooped out {favorite_italian_cheese.upper()} cheese in fright!\n",
        "    Obviously, the helicopter became uncontrollable and eventually the engine died and the helicopter\n",
        "    crashed into the {favorite_dinner_part.upper()} sitting on the plate next to it.  Miraculously, the pilot survived\n",
        "    due to the heavy cushion of {favorite_dinner_part.upper()} that protected him.\"\"\")\n",
        "\n",
        "# Title formatting with today's date\n",
        "title = \"News that's Not Fit to Print!\"\n",
        "today = datetime.now()\n",
        "formatted_date = today.strftime(\"%B %d, %Y\")\n",
        "\n",
        "# Variables used in the story portion. Note comments where Google was used.\n",
        "favorite_dinner_part = input(\"What is your favorite part of dinner? > \")\n",
        "favorite_italian_food = input(\"Name a favorite Italian food. > \")\n",
        "favorite_italian_cheese = input(\"Name a favorite Italian cheese (parmesan, romano, pecorino, etc.). > \")\n",
        "airport_name = input(\"What is your favorite airport's name? > \")\n",
        "weather_condition = input(\"Name a weather condition with reduced visibility. > \")\n",
        "one_part_of_an_aircraft = input(\"Name a part of an aircraft that causes it to move forward. > \")\n",
        "another_part_of_an_aircraft = input(\"Name another part of an aircraft propulsion system. > \")\n",
        "favorite_vegetable = input(\"Name one of your favorite vegetables. > \")\n",
        "another_favorite_italian_food = input(\"Name another favorite Italian food. > \")\n",
        "pilots_name = input(\"What is your name? > \")\n",
        "temperature = input(\"Name an extreme temperature condition (i.e. hot, freezing, boiling, etc.). > \") #Googled for how to get this variable to repeat.\n",
        "altitude = input(\"Select an altitude between 0 and 1000 feet. > \")\n",
        "\n",
        "# Print title & today's date\n",
        "print()\n",
        "print(f\"Today's date is {formatted_date}\")\n",
        "print(title)\n",
        "print(\"=\" * len(title)) # Google search for this method of underlining title\n",
        "\n",
        "print(f\"{formatted_date}   ----------\", \"/\\\\\" * 10, \"----------\", sep=\"\")\n",
        "print()\n",
        "print()\n",
        "\n",
        "# User's choice of aircraft & error handling\n",
        "while True:\n",
        "    aircraft = input(\"Would you prefer to fly in an airplane or a helicopter? > \").strip().lower()\n",
        "\n",
        "    if aircraft == \"airplane\":\n",
        "        airplane()\n",
        "        break  # Exit the loop after printing the airplane story\n",
        "    elif aircraft == \"helicopter\":\n",
        "        helicopter()\n",
        "        break  # Exit the loop after printing the helicopter story\n",
        "    else:\n",
        "        print(\"Sorry, please choose either 'airplane' or 'helicopter.'\")"
      ]
    }
  ]
}