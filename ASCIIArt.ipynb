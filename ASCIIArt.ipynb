{
  "nbformat": 4,
  "nbformat_minor": 0,
  "metadata": {
    "colab": {
      "provenance": [],
      "authorship_tag": "ABX9TyPVuv1gu6rtP53ri8CKB3fr",
      "include_colab_link": true
    },
    "kernelspec": {
      "name": "python3",
      "display_name": "Python 3"
    },
    "language_info": {
      "name": "python"
    }
  },
  "cells": [
    {
      "cell_type": "markdown",
      "metadata": {
        "id": "view-in-github",
        "colab_type": "text"
      },
      "source": [
        "<a href=\"https://colab.research.google.com/github/mlbrownmd/TamperMonkey/blob/main/ASCIIArt.ipynb\" target=\"_parent\"><img src=\"https://colab.research.google.com/assets/colab-badge.svg\" alt=\"Open In Colab\"/></a>"
      ]
    },
    {
      "cell_type": "markdown",
      "source": [],
      "metadata": {
        "id": "b3PVO98wE0rN"
      }
    },
    {
      "cell_type": "code",
      "execution_count": 8,
      "metadata": {
        "colab": {
          "base_uri": "https://localhost:8080/"
        },
        "id": "wn8IDCGl4wSw",
        "outputId": "300cab96-a865-431d-85a8-85853a3201ee"
      },
      "outputs": [
        {
          "output_type": "stream",
          "name": "stdout",
          "text": [
            "   ____           -----                                               \n",
            "  |    \\         /     \\                                            \n",
            "  |    |        /       /                                             \n",
            "  |    |       /       /                                              \n",
            "  |    /######/       /               oooooooooooooo                  \n",
            "  |   /######/       /=====)              o | 0               {{{}}}} \n",
            "  |__/######/       /=====)               o |  o ---------------||    \n",
            "           /       /=====)                o |  o ---------------III   \n",
            "          /       /=====)           /XOo0o0o0o0oOX\\                  \n",
            "         /       /                  \\____________/                   \n",
            "         \\      /                Helicopter on Floats                \n",
            "          -----/                                                      \n",
            "       Float Plane                                                    \n"
          ]
        }
      ],
      "source": [
        "\n",
        "# Program draws a float plane and a helicopter.\n",
        "print(\"   ____           -----                                               \")\n",
        "print(\"  |    \\\\         /     \\\\                                            \")\n",
        "print(\"  |    |        /       /                                             \")\n",
        "print(\"  |    |       /       /                                              \")\n",
        "print(\"  |    /######/       /               oooooooooooooo                  \")\n",
        "print(\"  |   /######/       /=====)              o | 0               {{{}}}} \")\n",
        "print(\"  |__/######/       /=====)               o |  o ---------------||    \")\n",
        "print(\"           /       /=====)                o |  o ---------------III   \")\n",
        "print(\"          /       /=====)           /XOo0o0o0o0oOX\\\\                  \")\n",
        "print(\"         /       /                  \\\\____________/                   \")\n",
        "print(\"         \\\\      /                Helicopter on Floats                \")\n",
        "print(\"          -----/                                                      \")\n",
        "print(\"       Float Plane                                                    \")"
      ]
    }
  ]
}